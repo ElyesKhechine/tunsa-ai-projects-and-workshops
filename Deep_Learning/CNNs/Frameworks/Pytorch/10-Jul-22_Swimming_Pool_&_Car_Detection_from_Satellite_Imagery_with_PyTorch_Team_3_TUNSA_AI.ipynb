{
  "cells": [
    {
      "cell_type": "code",
      "execution_count": null,
      "metadata": {
        "colab": {
          "base_uri": "https://localhost:8080/"
        },
        "id": "uXlTT-2UoWRT",
        "outputId": "62678b19-8bff-40e1-824a-29c56fd736c2"
      },
      "outputs": [
        {
          "name": "stdout",
          "output_type": "stream",
          "text": [
            "nvcc: NVIDIA (R) Cuda compiler driver\n",
            "Copyright (c) 2005-2020 NVIDIA Corporation\n",
            "Built on Mon_Oct_12_20:09:46_PDT_2020\n",
            "Cuda compilation tools, release 11.1, V11.1.105\n",
            "Build cuda_11.1.TC455_06.29190527_0\n",
            "gcc (Ubuntu 7.5.0-3ubuntu1~18.04) 7.5.0\n",
            "Copyright (C) 2017 Free Software Foundation, Inc.\n",
            "This is free software; see the source for copying conditions.  There is NO\n",
            "warranty; not even for MERCHANTABILITY or FITNESS FOR A PARTICULAR PURPOSE.\n",
            "\n"
          ]
        }
      ],
      "source": [
        "!nvcc -V\n",
        "!gcc --version"
      ]
    },
    {
      "cell_type": "code",
      "execution_count": null,
      "metadata": {
        "colab": {
          "base_uri": "https://localhost:8080/"
        },
        "id": "h7F7BwupoZAr",
        "outputId": "cb3055cb-3490-421e-b382-b85fa87f6139"
      },
      "outputs": [
        {
          "name": "stdout",
          "output_type": "stream",
          "text": [
            "Looking in indexes: https://pypi.org/simple, https://us-python.pkg.dev/colab-wheels/public/simple/\n",
            "Looking in links: https://download.pytorch.org/whl/torch_stable.html\n",
            "Requirement already satisfied: torch==1.7.1+cu110 in /usr/local/lib/python3.7/dist-packages (1.7.1+cu110)\n",
            "Requirement already satisfied: torchvision==0.8.2+cu101 in /usr/local/lib/python3.7/dist-packages (0.8.2+cu101)\n",
            "Requirement already satisfied: numpy in /usr/local/lib/python3.7/dist-packages (from torch==1.7.1+cu110) (1.21.6)\n",
            "Requirement already satisfied: typing-extensions in /usr/local/lib/python3.7/dist-packages (from torch==1.7.1+cu110) (4.1.1)\n",
            "Requirement already satisfied: pillow>=4.1.1 in /usr/local/lib/python3.7/dist-packages (from torchvision==0.8.2+cu101) (7.0.0)\n",
            "Looking in indexes: https://pypi.org/simple, https://us-python.pkg.dev/colab-wheels/public/simple/\n",
            "Requirement already satisfied: mmcv-full in /usr/local/lib/python3.7/dist-packages (1.5.3)\n",
            "Requirement already satisfied: packaging in /usr/local/lib/python3.7/dist-packages (from mmcv-full) (21.3)\n",
            "Requirement already satisfied: addict in /usr/local/lib/python3.7/dist-packages (from mmcv-full) (2.4.0)\n",
            "Requirement already satisfied: pyyaml in /usr/local/lib/python3.7/dist-packages (from mmcv-full) (3.13)\n",
            "Requirement already satisfied: Pillow in /usr/local/lib/python3.7/dist-packages (from mmcv-full) (7.0.0)\n",
            "Requirement already satisfied: yapf in /usr/local/lib/python3.7/dist-packages (from mmcv-full) (0.32.0)\n",
            "Requirement already satisfied: numpy in /usr/local/lib/python3.7/dist-packages (from mmcv-full) (1.21.6)\n",
            "Requirement already satisfied: pyparsing!=3.0.5,>=2.0.2 in /usr/local/lib/python3.7/dist-packages (from packaging->mmcv-full) (3.0.9)\n",
            "Cloning into 'mmdetection'...\n",
            "remote: Enumerating objects: 24992, done.\u001b[K\n",
            "remote: Total 24992 (delta 0), reused 0 (delta 0), pack-reused 24992\u001b[K\n",
            "Receiving objects: 100% (24992/24992), 37.78 MiB | 26.86 MiB/s, done.\n",
            "Resolving deltas: 100% (17510/17510), done.\n",
            "/content/mmdetection\n",
            "Looking in indexes: https://pypi.org/simple, https://us-python.pkg.dev/colab-wheels/public/simple/\n",
            "Obtaining file:///content/mmdetection\n",
            "Requirement already satisfied: matplotlib in /usr/local/lib/python3.7/dist-packages (from mmdet==2.25.0) (3.2.2)\n",
            "Requirement already satisfied: numpy in /usr/local/lib/python3.7/dist-packages (from mmdet==2.25.0) (1.21.6)\n",
            "Requirement already satisfied: pycocotools in /usr/local/lib/python3.7/dist-packages (from mmdet==2.25.0) (2.0.4)\n",
            "Requirement already satisfied: six in /usr/local/lib/python3.7/dist-packages (from mmdet==2.25.0) (1.15.0)\n",
            "Requirement already satisfied: terminaltables in /usr/local/lib/python3.7/dist-packages (from mmdet==2.25.0) (3.1.10)\n",
            "Requirement already satisfied: python-dateutil>=2.1 in /usr/local/lib/python3.7/dist-packages (from matplotlib->mmdet==2.25.0) (2.8.2)\n",
            "Requirement already satisfied: pyparsing!=2.0.4,!=2.1.2,!=2.1.6,>=2.0.1 in /usr/local/lib/python3.7/dist-packages (from matplotlib->mmdet==2.25.0) (3.0.9)\n",
            "Requirement already satisfied: kiwisolver>=1.0.1 in /usr/local/lib/python3.7/dist-packages (from matplotlib->mmdet==2.25.0) (1.4.3)\n",
            "Requirement already satisfied: cycler>=0.10 in /usr/local/lib/python3.7/dist-packages (from matplotlib->mmdet==2.25.0) (0.11.0)\n",
            "Requirement already satisfied: typing-extensions in /usr/local/lib/python3.7/dist-packages (from kiwisolver>=1.0.1->matplotlib->mmdet==2.25.0) (4.1.1)\n",
            "Installing collected packages: mmdet\n",
            "  Running setup.py develop for mmdet\n",
            "Successfully installed mmdet-2.25.0\n",
            "Looking in indexes: https://pypi.org/simple, https://us-python.pkg.dev/colab-wheels/public/simple/\n",
            "Requirement already satisfied: Pillow==7.0.0 in /usr/local/lib/python3.7/dist-packages (7.0.0)\n"
          ]
        }
      ],
      "source": [
        "!pip install -U torch==1.7.1+cu110 torchvision==0.8.2+cu101 -f https://download.pytorch.org/whl/torch_stable.html\n",
        "!pip install mmcv-full\n",
        "!rm -rf mmdetection\n",
        "!git clone https://github.com/open-mmlab/mmdetection\n",
        "%cd mmdetection\n",
        "!pip install -e .\n",
        "!pip install Pillow==7.0.0"
      ]
    },
    {
      "cell_type": "code",
      "execution_count": null,
      "metadata": {
        "colab": {
          "base_uri": "https://localhost:8080/",
          "height": 661
        },
        "id": "_XxAEnSRtCrH",
        "outputId": "38f067cb-4124-48a7-e531-062be0e8e860"
      },
      "outputs": [
        {
          "name": "stdout",
          "output_type": "stream",
          "text": [
            "Looking in indexes: https://pypi.org/simple, https://us-python.pkg.dev/colab-wheels/public/simple/, https://download.pytorch.org/whl/cu113\n",
            "Collecting torch==1.11.0+cu113\n",
            "  Downloading https://download.pytorch.org/whl/cu113/torch-1.11.0%2Bcu113-cp37-cp37m-linux_x86_64.whl (1637.0 MB)\n",
            "\u001b[K     |████████████████▎               | 834.1 MB 1.3 MB/s eta 0:10:26tcmalloc: large alloc 1147494400 bytes == 0x653e0000 @  0x7f4ee5155615 0x592b76 0x4df71e 0x59afff 0x515655 0x549576 0x593fce 0x548ae9 0x51566f 0x549576 0x593fce 0x548ae9 0x5127f1 0x598e3b 0x511f68 0x598e3b 0x511f68 0x598e3b 0x511f68 0x4bc98a 0x532e76 0x594b72 0x515600 0x549576 0x593fce 0x548ae9 0x5127f1 0x549576 0x593fce 0x5118f8 0x593dd7\n",
            "\u001b[K     |████████████████████▋           | 1055.7 MB 1.3 MB/s eta 0:07:33tcmalloc: large alloc 1434370048 bytes == 0x2c08000 @  0x7f4ee5155615 0x592b76 0x4df71e 0x59afff 0x515655 0x549576 0x593fce 0x548ae9 0x51566f 0x549576 0x593fce 0x548ae9 0x5127f1 0x598e3b 0x511f68 0x598e3b 0x511f68 0x598e3b 0x511f68 0x4bc98a 0x532e76 0x594b72 0x515600 0x549576 0x593fce 0x548ae9 0x5127f1 0x549576 0x593fce 0x5118f8 0x593dd7\n",
            "\u001b[K     |██████████████████████████▏     | 1336.2 MB 1.2 MB/s eta 0:04:05tcmalloc: large alloc 1792966656 bytes == 0x583f4000 @  0x7f4ee5155615 0x592b76 0x4df71e 0x59afff 0x515655 0x549576 0x593fce 0x548ae9 0x51566f 0x549576 0x593fce 0x548ae9 0x5127f1 0x598e3b 0x511f68 0x598e3b 0x511f68 0x598e3b 0x511f68 0x4bc98a 0x532e76 0x594b72 0x515600 0x549576 0x593fce 0x548ae9 0x5127f1 0x549576 0x593fce 0x5118f8 0x593dd7\n",
            "\u001b[K     |████████████████████████████████| 1636.9 MB 1.5 MB/s eta 0:00:01tcmalloc: large alloc 1636958208 bytes == 0xc31dc000 @  0x7f4ee51541e7 0x4a3940 0x4a39cc 0x592b76 0x4df71e 0x59afff 0x515655 0x549576 0x593fce 0x511e2c 0x549576 0x593fce 0x511e2c 0x549576 0x593fce 0x511e2c 0x549576 0x593fce 0x511e2c 0x549576 0x593fce 0x511e2c 0x593dd7 0x511e2c 0x549576 0x593fce 0x548ae9 0x5127f1 0x549576 0x593fce 0x548ae9\n",
            "tcmalloc: large alloc 2046197760 bytes == 0x124afc000 @  0x7f4ee5155615 0x592b76 0x4df71e 0x59afff 0x515655 0x549576 0x593fce 0x511e2c 0x549576 0x593fce 0x511e2c 0x549576 0x593fce 0x511e2c 0x549576 0x593fce 0x511e2c 0x549576 0x593fce 0x511e2c 0x593dd7 0x511e2c 0x549576 0x593fce 0x548ae9 0x5127f1 0x549576 0x593fce 0x548ae9 0x5127f1 0x549576\n",
            "\u001b[K     |████████████████████████████████| 1637.0 MB 5.8 kB/s \n",
            "\u001b[?25hCollecting torchvision==0.12.0+cu113\n",
            "  Downloading https://download.pytorch.org/whl/cu113/torchvision-0.12.0%2Bcu113-cp37-cp37m-linux_x86_64.whl (22.3 MB)\n",
            "\u001b[K     |████████████████████████████████| 22.3 MB 1.2 MB/s \n",
            "\u001b[?25hRequirement already satisfied: torchaudio==0.11.0 in /usr/local/lib/python3.7/dist-packages (0.11.0+cu113)\n",
            "Requirement already satisfied: typing-extensions in /usr/local/lib/python3.7/dist-packages (from torch==1.11.0+cu113) (4.1.1)\n",
            "Requirement already satisfied: requests in /usr/local/lib/python3.7/dist-packages (from torchvision==0.12.0+cu113) (2.23.0)\n",
            "Requirement already satisfied: numpy in /usr/local/lib/python3.7/dist-packages (from torchvision==0.12.0+cu113) (1.21.6)\n",
            "Requirement already satisfied: pillow!=8.3.*,>=5.3.0 in /usr/local/lib/python3.7/dist-packages (from torchvision==0.12.0+cu113) (7.0.0)\n",
            "Requirement already satisfied: idna<3,>=2.5 in /usr/local/lib/python3.7/dist-packages (from requests->torchvision==0.12.0+cu113) (2.10)\n",
            "Requirement already satisfied: urllib3!=1.25.0,!=1.25.1,<1.26,>=1.21.1 in /usr/local/lib/python3.7/dist-packages (from requests->torchvision==0.12.0+cu113) (1.24.3)\n",
            "Requirement already satisfied: certifi>=2017.4.17 in /usr/local/lib/python3.7/dist-packages (from requests->torchvision==0.12.0+cu113) (2022.6.15)\n",
            "Requirement already satisfied: chardet<4,>=3.0.2 in /usr/local/lib/python3.7/dist-packages (from requests->torchvision==0.12.0+cu113) (3.0.4)\n",
            "Installing collected packages: torch, torchvision\n",
            "  Attempting uninstall: torch\n",
            "    Found existing installation: torch 1.12.0\n",
            "    Uninstalling torch-1.12.0:\n",
            "      Successfully uninstalled torch-1.12.0\n",
            "  Attempting uninstall: torchvision\n",
            "    Found existing installation: torchvision 0.13.0\n",
            "    Uninstalling torchvision-0.13.0:\n",
            "      Successfully uninstalled torchvision-0.13.0\n",
            "Successfully installed torch-1.11.0+cu113 torchvision-0.12.0+cu113\n"
          ]
        },
        {
          "data": {
            "application/vnd.colab-display-data+json": {
              "pip_warning": {
                "packages": [
                  "torch"
                ]
              }
            }
          },
          "metadata": {},
          "output_type": "display_data"
        }
      ],
      "source": [
        "!pip install torch==1.11.0+cu113 torchvision==0.12.0+cu113 torchaudio==0.11.0 --extra-index-url https://download.pytorch.org/whl/cu113"
      ]
    },
    {
      "cell_type": "code",
      "execution_count": null,
      "metadata": {
        "colab": {
          "base_uri": "https://localhost:8080/",
          "height": 373
        },
        "id": "JVw_ejzR1fR3",
        "outputId": "d6789295-e1a5-4a62-c49c-34012230a5cc"
      },
      "outputs": [],
      "source": [
        "import os\n",
        "import glob\n",
        "import cv2\n",
        "import shutil\n",
        "import random\n",
        "import os.path as osp\n",
        "import json\n",
        "import mmcv\n",
        "import re\n",
        "import xml.etree.ElementTree as ET\n",
        "from typing import Dict, List\n",
        "from mmcv.runner import init_detector\n",
        "from mmcv.runner import inference_detector\n",
        "from mmcv.runner import show_result_pyplot\n",
        "from mmdet.datasets import build_dataset\n",
        "from mmdet.models import build_detector\n",
        "from mmcv.runner import train_detector"
      ]
    },
    {
      "cell_type": "code",
      "execution_count": null,
      "metadata": {
        "colab": {
          "base_uri": "https://localhost:8080/",
          "height": 554
        },
        "id": "t7DhLd_Coc5k",
        "outputId": "e07f3297-e0af-44c1-b1ee-8235c57c0169"
      },
      "outputs": [],
      "source": [
        "import torch\n",
        "import torchvision\n",
        "print(torch.__version__, torch.cuda.is_available())\n",
        "\n",
        "import mmdet as mmdet\n",
        "print(mmdet.__version__)\n",
        "\n",
        "from mmcv.ops import get_compiling_cuda_version, get_compiler_version\n",
        "print(get_compiling_cuda_version())\n",
        "print(get_compiler_version())"
      ]
    },
    {
      "cell_type": "code",
      "execution_count": null,
      "metadata": {
        "colab": {
          "base_uri": "https://localhost:8080/"
        },
        "id": "X3lOk56cl6Zo",
        "outputId": "a50f7df1-00fb-4b27-e439-d7c89e3e3392"
      },
      "outputs": [
        {
          "name": "stdout",
          "output_type": "stream",
          "text": [
            "Looking in indexes: https://pypi.org/simple, https://us-python.pkg.dev/colab-wheels/public/simple/\n",
            "Requirement already satisfied: kaggle in /usr/local/lib/python3.7/dist-packages (1.5.12)\n",
            "Requirement already satisfied: six>=1.10 in /usr/local/lib/python3.7/dist-packages (from kaggle) (1.15.0)\n",
            "Requirement already satisfied: urllib3 in /usr/local/lib/python3.7/dist-packages (from kaggle) (1.24.3)\n",
            "Requirement already satisfied: tqdm in /usr/local/lib/python3.7/dist-packages (from kaggle) (4.64.0)\n",
            "Requirement already satisfied: python-slugify in /usr/local/lib/python3.7/dist-packages (from kaggle) (6.1.2)\n",
            "Requirement already satisfied: requests in /usr/local/lib/python3.7/dist-packages (from kaggle) (2.23.0)\n",
            "Requirement already satisfied: certifi in /usr/local/lib/python3.7/dist-packages (from kaggle) (2022.6.15)\n",
            "Requirement already satisfied: python-dateutil in /usr/local/lib/python3.7/dist-packages (from kaggle) (2.8.2)\n",
            "Requirement already satisfied: text-unidecode>=1.3 in /usr/local/lib/python3.7/dist-packages (from python-slugify->kaggle) (1.3)\n",
            "Requirement already satisfied: chardet<4,>=3.0.2 in /usr/local/lib/python3.7/dist-packages (from requests->kaggle) (3.0.4)\n",
            "Requirement already satisfied: idna<3,>=2.5 in /usr/local/lib/python3.7/dist-packages (from requests->kaggle) (2.10)\n"
          ]
        }
      ],
      "source": [
        "!pip install kaggle"
      ]
    },
    {
      "cell_type": "code",
      "execution_count": null,
      "metadata": {
        "colab": {
          "base_uri": "https://localhost:8080/"
        },
        "id": "66PQzb3M0Mkj",
        "outputId": "00f34f4a-4899-42cc-9c4e-df30b2f7a1b0"
      },
      "outputs": [
        {
          "name": "stdout",
          "output_type": "stream",
          "text": [
            "mkdir: cannot create directory ‘/root/.kaggle’: File exists\n"
          ]
        }
      ],
      "source": [
        "!mkdir ~/.kaggle\n",
        "!touch ~/.kaggle/kaggle.json\n",
        "\n",
        "api_token = {\"username\":\"elyeskhechine\",\"key\":\"87561ea6d79506ce193b2f93ee401f41\"}\n",
        "\n",
        "import json\n",
        "\n",
        "with open('/root/.kaggle/kaggle.json', 'w') as file:\n",
        "    json.dump(api_token, file)\n",
        "\n",
        "!chmod 600 ~/.kaggle/kaggle.json"
      ]
    },
    {
      "cell_type": "code",
      "execution_count": null,
      "metadata": {
        "colab": {
          "base_uri": "https://localhost:8080/"
        },
        "id": "WheFGZBHn64d",
        "outputId": "6529dcf5-f18a-48f0-aee3-c192090735b4"
      },
      "outputs": [
        {
          "name": "stdout",
          "output_type": "stream",
          "text": [
            "Downloading swimming-pool-and-car-detection.zip to /content\n",
            " 97% 108M/111M [00:01<00:00, 146MB/s] \n",
            "100% 111M/111M [00:01<00:00, 110MB/s]\n"
          ]
        }
      ],
      "source": [
        "!kaggle datasets download -d kbhartiya83/swimming-pool-and-car-detection"
      ]
    },
    {
      "cell_type": "code",
      "execution_count": null,
      "metadata": {
        "id": "28dHJLtfzSNL"
      },
      "outputs": [],
      "source": [
        "import os\n",
        "import zipfile\n",
        "\n",
        "local_zip = '/content/swimming-pool-and-car-detection.zip'\n",
        "zip_ref = zipfile.ZipFile(local_zip, 'r')\n",
        "zip_ref.extractall('/content/data')\n",
        "zip_ref.close()"
      ]
    },
    {
      "cell_type": "code",
      "execution_count": null,
      "metadata": {
        "colab": {
          "base_uri": "https://localhost:8080/"
        },
        "id": "R5znP_vRoJM6",
        "outputId": "13e68ce8-d891-4de7-801c-91711ea3d4ae"
      },
      "outputs": [
        {
          "name": "stdout",
          "output_type": "stream",
          "text": [
            "mkdir: cannot create directory ‘kaggle/working’: File exists\n",
            "mkdir: cannot create directory ‘kaggle/working/data’: File exists\n",
            "mkdir: cannot create directory ‘kaggle/working/data/train-xml-labels’: File exists\n"
          ]
        }
      ],
      "source": [
        "!mkdir kaggle/working\n",
        "!mkdir kaggle/working/data\n",
        "!mkdir kaggle/working/data/train-xml-labels\n",
        "!cp -a /content/data/training_data/training_data/labels/. kaggle/working/data/train-xml-labels\n",
        "!mkdir kaggle/working/data/train-images\n",
        "!cp -a /content/data/training_data/training_data/images/. kaggle/working/data/train-images\n",
        "!mkdir kaggle/working/data/test-images\n",
        "!cp -a /content/data/test_data_images/test_data_images/images/. kaggle/working/data/test-images"
      ]
    },
    {
      "cell_type": "code",
      "execution_count": null,
      "metadata": {
        "id": "zJmj3MZHpK2K"
      },
      "outputs": [],
      "source": [
        "random.seed(0)\n",
        "val_ids = random.sample(range(0, 3747), 200)"
      ]
    },
    {
      "cell_type": "code",
      "execution_count": null,
      "metadata": {
        "id": "MPhCXrWtpS-P"
      },
      "outputs": [],
      "source": [
        "real_val_ids = []\n",
        "for ids in val_ids:\n",
        "    ids = str(ids)\n",
        "    length = len(ids)\n",
        "    zeros_needed = 9-int(length)\n",
        "    zeros = ''\n",
        "    for i in range(zeros_needed):\n",
        "        zeros += '0'\n",
        "    zeros += ids\n",
        "    real_val_ids.append(zeros)"
      ]
    },
    {
      "cell_type": "code",
      "execution_count": null,
      "metadata": {
        "id": "OXXcOAh5pVjp"
      },
      "outputs": [],
      "source": [
        "!mkdir kaggle/working/data/val-xml-labels\n",
        "!mkdir kaggle/working/data/val-images\n",
        "for ids in real_val_ids:\n",
        "    shutil.move('kaggle/working/data/train-xml-labels/' + ids + '.xml', 'kaggle/working/data/val-xml-labels')\n",
        "    shutil.move('kaggle/working/data/train-images/' + ids + '.jpg', 'kaggle/working/data/val-images')  "
      ]
    },
    {
      "cell_type": "code",
      "execution_count": null,
      "metadata": {
        "colab": {
          "base_uri": "https://localhost:8080/"
        },
        "id": "WGfOYjU7pYHG",
        "outputId": "f9967878-d698-4671-b34e-fe31f0785692"
      },
      "outputs": [
        {
          "name": "stdout",
          "output_type": "stream",
          "text": [
            "Writing labels.txt\n"
          ]
        }
      ],
      "source": [
        "%%writefile labels.txt\n",
        "1\n",
        "2"
      ]
    },
    {
      "cell_type": "code",
      "execution_count": null,
      "metadata": {
        "colab": {
          "base_uri": "https://localhost:8080/",
          "height": 235
        },
        "id": "O4LpN-4Wpaby",
        "outputId": "89a149d9-1e15-4bbb-ea69-fd83beecbeec"
      },
      "outputs": [],
      "source": [
        "f = open(\"train.txt\", \"x\")\n",
        "f.close()\n",
        "lines = []\n",
        "for file in os.listdir('kaggle/working/data/train-xml-labels'):\n",
        "    lines.append('kaggle/working/data/train-xml-labels/' + file)\n",
        "with open('train.txt', 'w') as f:\n",
        "    for i in range(250):\n",
        "        f.write(lines[i])\n",
        "        f.write('\\n')\n",
        "f.close()"
      ]
    },
    {
      "cell_type": "code",
      "execution_count": null,
      "metadata": {
        "colab": {
          "base_uri": "https://localhost:8080/",
          "height": 235
        },
        "id": "-7T2gbgQpbnv",
        "outputId": "fe5b0e67-6b51-4989-c731-3c30a007da39"
      },
      "outputs": [],
      "source": [
        "f = open(\"val.txt\", \"x\")\n",
        "f.close()\n",
        "lines = []\n",
        "for file in os.listdir('kaggle/working/data/val-xml-labels'):\n",
        "    lines.append('kaggle/working/data/val-xml-labels/' + file)\n",
        "with open('val.txt', 'w') as f:\n",
        "    for i in range(30):\n",
        "        f.write(lines[i])\n",
        "        f.write('\\n')\n",
        "f.close()"
      ]
    },
    {
      "cell_type": "code",
      "execution_count": null,
      "metadata": {
        "id": "IWzUQpZLpe3X"
      },
      "outputs": [],
      "source": [
        "#Stolen from https://github.com/yukkyo/voc2coco\n",
        "def get_label2id(labels_path: str) -> Dict[str, int]:\n",
        "    with open(labels_path, 'r') as f:\n",
        "        labels_str = f.read().split()\n",
        "    labels_ids = list(range(1, len(labels_str)+1))\n",
        "    return dict(zip(labels_str, labels_ids))\n",
        "\n",
        "\n",
        "def get_annpaths(ann_dir_path: str = None,\n",
        "                 ann_ids_path: str = None,\n",
        "                 ext: str = '',\n",
        "                 annpaths_list_path: str = None) -> List[str]:\n",
        "    # If use annotation paths list\n",
        "    if annpaths_list_path is not None:\n",
        "        with open(annpaths_list_path, 'r') as f:\n",
        "            ann_paths = f.read().split()\n",
        "        return ann_paths\n",
        "\n",
        "    # If use annotaion ids list\n",
        "    ext_with_dot = '.' + ext if ext != '' else ''\n",
        "    with open(ann_ids_path, 'r') as f:\n",
        "        ann_ids = f.read().split()\n",
        "    ann_paths = [os.path.join(ann_dir_path, aid+ext_with_dot) for aid in ann_ids]\n",
        "    return ann_paths\n",
        "\n",
        "\n",
        "def get_image_info(annotation_root, extract_num_from_imgid=True, train_or_val='train'):\n",
        "    filename = annotation_root.findtext('filename')\n",
        "    if train_or_val == 'train':\n",
        "        filename = '/kaggle/working/data/train-images/' + filename\n",
        "    else:\n",
        "        filename = '/kaggle/working/data/val-images/' + filename \n",
        "    img_name = os.path.basename(filename)\n",
        "    img_id = os.path.splitext(img_name)[0]\n",
        "    if extract_num_from_imgid and isinstance(img_id, str):\n",
        "        img_id = int(re.findall(r'\\d+', img_id)[0])\n",
        "\n",
        "#     size = annotation_root.find('size')\n",
        "#     width = int(size.findtext('width'))\n",
        "#     height = int(size.findtext('height'))\n",
        "    width, height, depth = cv2.imread(filename).shape\n",
        "\n",
        "    image_info = {\n",
        "        'id': img_id,\n",
        "        'width': width,\n",
        "        'height': height,\n",
        "        'file_name': filename,\n",
        "    }\n",
        "    return image_info\n",
        "\n",
        "\n",
        "def get_coco_annotation_from_obj(obj, label2id):\n",
        "    label = obj.findtext('name')\n",
        "#     assert label in label2id, f\"Error: {label} is not in label2id !\"\n",
        "    category_id = label2id[label]\n",
        "    bndbox = obj.find('bndbox')\n",
        "    xmin = int(float(bndbox.findtext('xmin')))\n",
        "    ymin = int(float(bndbox.findtext('ymin')))\n",
        "    xmax = int(float(bndbox.findtext('xmax')))\n",
        "    ymax = int(float(bndbox.findtext('ymax')))\n",
        "    assert xmax >= xmin and ymax >= ymin, f\"Box size error !: (xmin, ymin, xmax, ymax): {xmin, ymin, xmax, ymax}\"\n",
        "    o_width = xmax - xmin\n",
        "    o_height = ymax - ymin\n",
        "    ann = {\n",
        "        'category_id': category_id,\n",
        "        'segmentation': [],  # This script is not for segmentation\n",
        "        'area': o_width * o_height,\n",
        "        'bbox': [xmin, ymin, o_width, o_height],\n",
        "        'iscrowd': 0,\n",
        "    }\n",
        "    return ann\n",
        "\n",
        "\n",
        "def convert_xmls_to_cocojson(annotation_paths: List[str],label2id: Dict[str, int], output_jsonpath: str, train_or_val: str, extract_num_from_imgid: bool = True):\n",
        "    output_json_dict = { \n",
        "        \"images\": [],\n",
        "        \"annotations\": [],\n",
        "        \"categories\": []\n",
        "    }\n",
        "    bnd_id = 1  # START_BOUNDING_BOX_ID, TODO input as args ?\n",
        "    print('Start converting !')\n",
        "    for a_path in annotation_paths:\n",
        "        # Read annotation xml\n",
        "        ann_tree = ET.parse(a_path)\n",
        "        ann_root = ann_tree.getroot()\n",
        "\n",
        "        img_info = get_image_info(annotation_root=ann_root,extract_num_from_imgid=extract_num_from_imgid, train_or_val=train_or_val)\n",
        "        img_id = img_info['id']\n",
        "        output_json_dict['images'].append(img_info)\n",
        "\n",
        "        for obj in ann_root.findall('object'):\n",
        "            ann = get_coco_annotation_from_obj(obj=obj, label2id=label2id)\n",
        "            annot = {'id': bnd_id, 'image_id': img_id,}\n",
        "            annot.update(ann)\n",
        "            output_json_dict['annotations'].append(annot)\n",
        "            bnd_id = bnd_id + 1\n",
        "\n",
        "    for label, label_id in label2id.items():\n",
        "        category_info = {'id': label_id, 'name': label, 'supercategory': 'none'}\n",
        "        output_json_dict['categories'].append(category_info)\n",
        "\n",
        "    with open(output_jsonpath, 'w') as f:\n",
        "        output_json = json.dumps(output_json_dict)\n",
        "        f.write(output_json)"
      ]
    },
    {
      "cell_type": "code",
      "execution_count": null,
      "metadata": {
        "id": "qawrkbGCpg8X"
      },
      "outputs": [],
      "source": [
        "def convert_to_coco(ann_path_list='/content/train.txt', labels='/content/labels.txt', output='/content/output.json', train_or_val='train'):\n",
        "    label2id = get_label2id(labels_path=labels)\n",
        "    ann_paths = get_annpaths(\n",
        "        annpaths_list_path=ann_path_list\n",
        "    )\n",
        "    convert_xmls_to_cocojson(\n",
        "        annotation_paths=ann_paths,\n",
        "        label2id=label2id,\n",
        "        output_jsonpath=output,\n",
        "        train_or_val=train_or_val\n",
        "    )"
      ]
    },
    {
      "cell_type": "code",
      "execution_count": null,
      "metadata": {
        "colab": {
          "base_uri": "https://localhost:8080/",
          "height": 328
        },
        "id": "DXDHAB85pilZ",
        "outputId": "85a07e8e-2dcc-4e01-e0d8-3d47f47097ce"
      },
      "outputs": [],
      "source": [
        "convert_to_coco()"
      ]
    },
    {
      "cell_type": "code",
      "execution_count": null,
      "metadata": {
        "colab": {
          "base_uri": "https://localhost:8080/",
          "height": 328
        },
        "id": "Y0XFdCWCpkAe",
        "outputId": "ee2fd7f0-aa0d-4191-ecf2-91ca4a453922"
      },
      "outputs": [],
      "source": [
        "convert_to_coco(ann_path_list='/content/val.txt', labels='/content/labels.txt', output='/content/val_output.json', train_or_val='val')"
      ]
    },
    {
      "cell_type": "code",
      "execution_count": null,
      "metadata": {
        "id": "6mzPQP3DplQ-"
      },
      "outputs": [],
      "source": [
        "from mmcv import Config\n",
        "cfg = Config.fromfile('/kaggle/working/mmdetection/configs/faster_rcnn/faster_rcnn_x101_64x4d_fpn_1x_coco.py')"
      ]
    },
    {
      "cell_type": "code",
      "execution_count": null,
      "metadata": {
        "id": "H5szlLDYpnH4"
      },
      "outputs": [],
      "source": [
        "from mmdet.apis import set_random_seed\n",
        "\n",
        "# Modify dataset type and path\n",
        "cfg.dataset_type = 'CocoDataset'\n",
        "cfg.classes = '/kaggle/working/labels.txt'\n",
        "cfg.data_root = '/kaggle/working'\n",
        "\n",
        "cfg.model.roi_head.bbox_head.num_classes = 2\n",
        "\n",
        "cfg.data.test.type = 'CocoDataset'\n",
        "cfg.data.test.classes = 'labels.txt'\n",
        "cfg.data.test.data_root = '/kaggle/working'\n",
        "cfg.data.test.ann_file = 'val_output.json'\n",
        "cfg.data.test.img_prefix = 'data/val-images'\n",
        "\n",
        "cfg.data.train.type = 'CocoDataset'\n",
        "cfg.data.train.data_root = '/kaggle/working'\n",
        "cfg.data.train.ann_file = 'output.json'\n",
        "cfg.data.train.img_prefix = 'data/train-images'\n",
        "cfg.data.train.classes = 'labels.txt'\n",
        "\n",
        "cfg.data.val.type = 'CocoDataset'\n",
        "cfg.data.val.data_root = '/kaggle/working'\n",
        "cfg.data.val.ann_file = 'val_output.json'\n",
        "cfg.data.val.img_prefix = 'data/val-images'\n",
        "cfg.data.val.classes = 'labels.txt'\n",
        "\n",
        "cfg.load_from = '../input/faster-rcnn-checkpoint/faster_rcnn_x101_64x4d_fpn_1x_coco_20200204-833ee192.pth'\n",
        "\n",
        "cfg.work_dir = '/kaggle/working/model_output'\n",
        "\n",
        "cfg.optimizer.lr = 0.005\n",
        "cfg.lr_config.step = 5\n",
        "cfg.optimizer.weight_decay = 0.005\n",
        "# cfg.optimizer_config.grad_clip = dict(max_norm=35, norm_type=2)\n",
        "cfg.lr_config.warmup_iters = 250\n",
        "cfg.lr_config.policy = 'step'\n",
        "# cfg.lr_config.warmup = none\n",
        "# cfg.lr_config.warmup_ratio = 0.1\n",
        "# cfg.lr_config.min_lr_ratio = 1e-5\n",
        "# cfg.lr_config = dict(warmup_iters=1000, policy='CosineAnnealing', warmup='linear', warmup_ratio=0.1, min_lr_ratio=1e-6)\n",
        "cfg.data.samples_per_gpu = 1\n",
        "cfg.data.workers_per_gpu = 1\n",
        "cfg.evaluation.metric = 'bbox'\n",
        "cfg.evaluation.interval = 4\n",
        "cfg.checkpoint_config.interval = 6\n",
        "cfg.runner.max_epochs = 18\n",
        "cfg.log_config.interval = 250\n",
        "\n",
        "cfg.seed = 0\n",
        "set_random_seed(0, deterministic=False)\n",
        "cfg.gpu_ids = range(1)\n",
        "\n",
        "print(f'Config:\\n{cfg.pretty_text}')"
      ]
    },
    {
      "cell_type": "code",
      "execution_count": null,
      "metadata": {
        "id": "GCBfgxdxpqHQ"
      },
      "outputs": [],
      "source": [
        "datasets = [build_dataset(cfg.data.train)]\n",
        "model = build_detector(\n",
        " cfg.model, train_cfg=cfg.get('train_cfg'), test_cfg=cfg.get('test_cfg'))\n",
        "model.CLASSES = datasets[0].CLASSES\n",
        "\n",
        "mmcv.mkdir_or_exist(osp.abspath(cfg.work_dir))\n",
        "train_detector(model, datasets, cfg, distributed=False, validate=True)"
      ]
    },
    {
      "cell_type": "code",
      "execution_count": null,
      "metadata": {
        "id": "5D4L0Baxpton"
      },
      "outputs": [],
      "source": [
        "model = init_detector(cfg, '/kaggle/working/model_output/epoch_18.pth')\n",
        "for file in os.listdir('/kaggle/working/data/val-images'):\n",
        "    img = mmcv.imread('/kaggle/working/data/val-images/' + file)\n",
        "    result = inference_detector(model, img)\n",
        "    show_result_pyplot(model, img, result)"
      ]
    }
  ],
  "metadata": {
    "colab": {
      "provenance": []
    },
    "kernelspec": {
      "display_name": "Python 3",
      "name": "python3"
    },
    "language_info": {
      "name": "python"
    }
  },
  "nbformat": 4,
  "nbformat_minor": 0
}
