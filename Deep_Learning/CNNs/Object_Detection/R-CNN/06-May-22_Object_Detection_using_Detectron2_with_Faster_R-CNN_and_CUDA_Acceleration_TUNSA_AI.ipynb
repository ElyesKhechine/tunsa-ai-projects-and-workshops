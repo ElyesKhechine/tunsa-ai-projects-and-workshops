{
  "nbformat": 4,
  "nbformat_minor": 0,
  "metadata": {
    "colab": {
      "provenance": []
    },
    "kernelspec": {
      "name": "python3",
      "display_name": "Python 3"
    },
    "language_info": {
      "name": "python"
    }
  },
  "cells": [
    {
      "cell_type": "code",
      "execution_count": null,
      "metadata": {
        "id": "BU-9Lo-5NqH3"
      },
      "outputs": [],
      "source": [
        "from detectron2. engine import DefaultPredictor\n",
        "from detectran2.config import get_cfg\n",
        "from detectron2.data import Metadatacatalog\n",
        "from detectron2.utils.visualizer import ColorMode, Visualizer\n",
        "from detectron2 import model_zoo\n",
        "import cv2\n",
        "import numpy as np"
      ]
    },
    {
      "cell_type": "markdown",
      "source": [
        "#Object Detection"
      ],
      "metadata": {
        "id": "phxB4xUKOwr6"
      }
    },
    {
      "cell_type": "code",
      "source": [
        "class Detector:\n",
        "    def init_(self):\n",
        "      self.cfg=get_cfg()\n",
        "      #Load model config and pretrained model\n",
        "      self.cfg.nerge_from_file(nodel_zoo.get_config_file(\"Coco-Detection/faster_rcnn_R_181_FPN_3x.yaml\"))\n",
        "      self.cfg.HCDEL.KEIGHTS=Model_zoo.get_checkpoint_url(\"Coco-Detection/faster_rcnn_R_101_FPN_3x.yaml\")\n",
        "      self.cfg.MCDEL.ROI_HEADS.SCORE_THRESH_TEST=8.7\n",
        "      self.cfg.MCDEL.DEVICE=\"cuda\" #cpu or cuda\n",
        "      self.predictor=DefaultPredictor(self.cfg)\n",
        "    def onImage(self, imagePath):\n",
        "      image-cv2.imread (imagePath)\n",
        "      predictions=self.predictor(image)\n",
        "      viz=Visualizer(image[:,:,::-1], metadata=Metadatacatalog.get(self.cfg.DATASETS.TRAIN[]),\n",
        "      instance_mode-ColorMode. INAGE_BW)\n",
        "      output=viz.draw_instance_predictions(predictions[\"instances\"]. to(\"cpu\"))\n",
        "      cv2.imshow(\"Result\", output.get_image()[:,:,::-1])\n",
        "      ev2. waitkey(a)"
      ],
      "metadata": {
        "id": "v1RwGWVlOBBe"
      },
      "execution_count": null,
      "outputs": []
    },
    {
      "cell_type": "code",
      "source": [
        "#Result\n",
        "detector=Detector()\n",
        "detector.onImage(\"images.jpe\")"
      ],
      "metadata": {
        "id": "LswdlD2HOOIC"
      },
      "execution_count": null,
      "outputs": []
    }
  ]
}